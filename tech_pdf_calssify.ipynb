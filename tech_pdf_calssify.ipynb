{
  "nbformat": 4,
  "nbformat_minor": 0,
  "metadata": {
    "colab": {
      "name": "tech pdf calssify.ipynb",
      "provenance": []
    },
    "kernelspec": {
      "name": "python3",
      "display_name": "Python 3"
    },
    "accelerator": "GPU"
  },
  "cells": [
    {
      "cell_type": "code",
      "metadata": {
        "id": "HBCryqevKhOp",
        "colab_type": "code",
        "colab": {
          "base_uri": "https://localhost:8080/",
          "height": 101
        },
        "outputId": "7a19fc0e-a188-48bd-bb74-e1db624aeb20"
      },
      "source": [
        "!pip install spellchecker\n",
        "from __future__ import unicode_literals, print_function\n",
        "import plac\n",
        "import random\n",
        "from pathlib import Path\n",
        "import spacy\n",
        "from tqdm import tqdm \n",
        "import spacy\n",
        "import re"
      ],
      "execution_count": 5,
      "outputs": [
        {
          "output_type": "stream",
          "text": [
            "Requirement already satisfied: spellchecker in /usr/local/lib/python3.6/dist-packages (0.4)\n",
            "Requirement already satisfied: setuptools in /usr/local/lib/python3.6/dist-packages (from spellchecker) (49.1.0)\n",
            "Requirement already satisfied: inexactsearch in /usr/local/lib/python3.6/dist-packages (from spellchecker) (1.0.2)\n",
            "Requirement already satisfied: silpa-common>=0.3 in /usr/local/lib/python3.6/dist-packages (from inexactsearch->spellchecker) (0.3)\n",
            "Requirement already satisfied: soundex>=1.0 in /usr/local/lib/python3.6/dist-packages (from inexactsearch->spellchecker) (1.1.3)\n"
          ],
          "name": "stdout"
        }
      ]
    },
    {
      "cell_type": "code",
      "metadata": {
        "id": "rRU6OJBILRP6",
        "colab_type": "code",
        "colab": {}
      },
      "source": [
        "spacy.prefer_gpu()\n",
        "nlp = spacy.load(\"en_core_web_sm\")"
      ],
      "execution_count": 10,
      "outputs": []
    },
    {
      "cell_type": "code",
      "metadata": {
        "id": "Q-JLUG7wNVdf",
        "colab_type": "code",
        "colab": {
          "base_uri": "https://localhost:8080/",
          "height": 34
        },
        "outputId": "1bd3b02c-851a-4c6c-ef4c-cbf29c49f439"
      },
      "source": [
        "s1=\"1. Python installation On Linux systems, Python 2.x is already installed. To download Python for Windows and OSx, and for documentation see http://python.org/\"\n",
        "s1=s1.lower()\n",
        "s=r\"\\b(python)\\b\"\n",
        "matches = re.search(s, s1)\n",
        "print(matches.start(),matches.end())"
      ],
      "execution_count": 11,
      "outputs": [
        {
          "output_type": "stream",
          "text": [
            "3 9\n"
          ],
          "name": "stdout"
        }
      ]
    },
    {
      "cell_type": "code",
      "metadata": {
        "id": "_NpImHTcO9ak",
        "colab_type": "code",
        "colab": {
          "base_uri": "https://localhost:8080/",
          "height": 34
        },
        "outputId": "6892d875-d26f-425e-bdb9-a792f3805ae4"
      },
      "source": [
        "s2=\"1. Software testing is an essential, yet time-consuming, and expensive activity. Therefore, automation of any aspect of software test engineering can reduce testing time and, in the long-run, reduce costs for the testing activity.While there are many research directions in testing automation, from theory through application, the main focus of this special issue is onpartially or fully validated tools, techniques, and experiences.\"\n",
        "s2=s2.lower()\n",
        "s=r\"\\b(software)\\b\"\n",
        "matches = re.search(s, s2)\n",
        "print(matches.start(),matches.end())"
      ],
      "execution_count": 16,
      "outputs": [
        {
          "output_type": "stream",
          "text": [
            "3 11\n"
          ],
          "name": "stdout"
        }
      ]
    },
    {
      "cell_type": "code",
      "metadata": {
        "id": "XKxPk1zZPegU",
        "colab_type": "code",
        "colab": {
          "base_uri": "https://localhost:8080/",
          "height": 34
        },
        "outputId": "74717d31-61c0-4ad3-edaf-19e67ec62b84"
      },
      "source": [
        "s3=\"1. Help commands: modules: available modules keywords: list of reserved Python keywords quit: leave help To get help on a keyword, just enter it's name in help.LTAM-FELJC\"\n",
        "s3=s3.lower()\n",
        "s=r\"\\b(modules)\\b\"\n",
        "matches = re.search(s, s3)\n",
        "print(matches.start(),matches.end())"
      ],
      "execution_count": 17,
      "outputs": [
        {
          "output_type": "stream",
          "text": [
            "18 25\n"
          ],
          "name": "stdout"
        }
      ]
    },
    {
      "cell_type": "code",
      "metadata": {
        "id": "s7Q1UjlCQWjL",
        "colab_type": "code",
        "colab": {
          "base_uri": "https://localhost:8080/",
          "height": 34
        },
        "outputId": "5da70239-496e-4860-bb8f-85465c1bf234"
      },
      "source": [
        "s4=\"1. After calculating coverage and redundancy metrics, the system prepares a list of test artifacts in no particular order. All the information about coverage ratios, number of covered items and redundancy metrics (both SR for each test and PR for each test pair) is available for exploration by the tester.\"\n",
        "s4=s4.lower()\n",
        "s=r\"\\b(system)\\b\"\n",
        "matches = re.search(s, s4)\n",
        "print(matches.start(),matches.end())"
      ],
      "execution_count": 18,
      "outputs": [
        {
          "output_type": "stream",
          "text": [
            "58 64\n"
          ],
          "name": "stdout"
        }
      ]
    },
    {
      "cell_type": "code",
      "metadata": {
        "id": "R4E8PYOHQuTc",
        "colab_type": "code",
        "colab": {
          "base_uri": "https://localhost:8080/",
          "height": 34
        },
        "outputId": "9dde81a6-5e87-40f8-9eb1-429f7b0a6faa"
      },
      "source": [
        "s5=\"1.  In Python white spaces are important! The indentation of a source code is important! A program that is not correctly indented shows either errors or does not what you want!.\"\n",
        "s5=s5.lower()\n",
        "s=r\"\\b(program)\\b\"\n",
        "matches = re.search(s, s5)\n",
        "print(matches.start(),matches.end())"
      ],
      "execution_count": 19,
      "outputs": [
        {
          "output_type": "stream",
          "text": [
            "91 98\n"
          ],
          "name": "stdout"
        }
      ]
    },
    {
      "cell_type": "code",
      "metadata": {
        "id": "dPjW0BDmRPdX",
        "colab_type": "code",
        "colab": {}
      },
      "source": [
        "TRAIN_DATA = [\n",
        "    (s1, {\n",
        "        'entities': [(3,9, 'Tech')]\n",
        "    }),\n",
        "     (s2, {\n",
        "        'entities': [(3, 11, 'Tech')]\n",
        "    }),\n",
        "    (s3, {\n",
        "        'entities': [(18,25, 'Tech')]\n",
        "    }),\n",
        "    (s4, {\n",
        "        'entities': [(58, 64, 'Tech')]\n",
        "    }),\n",
        "    (s5, {\n",
        "        'entities': [(91, 98, 'Tech')]\n",
        "        })\n",
        "\n",
        "]"
      ],
      "execution_count": 22,
      "outputs": []
    },
    {
      "cell_type": "code",
      "metadata": {
        "id": "YnQM6Xw3R1Fl",
        "colab_type": "code",
        "colab": {}
      },
      "source": [
        "model = None\n",
        "output_dir=Path(\"C:\\\\techclassify\")\n",
        "n_iter=100"
      ],
      "execution_count": 25,
      "outputs": []
    },
    {
      "cell_type": "code",
      "metadata": {
        "id": "GxJAHCSrR4cn",
        "colab_type": "code",
        "colab": {
          "base_uri": "https://localhost:8080/",
          "height": 34
        },
        "outputId": "edc97ad0-76ca-412b-b2c9-c3200d2835c6"
      },
      "source": [
        "if model is not None:\n",
        "    nlp = spacy.load(model)  \n",
        "    print(\"Loaded model '%s'\" % model)\n",
        "else:\n",
        "    nlp = spacy.blank('en')  \n",
        "    print(\"Created blank 'en' model\")"
      ],
      "execution_count": 24,
      "outputs": [
        {
          "output_type": "stream",
          "text": [
            "Created blank 'en' model\n"
          ],
          "name": "stdout"
        }
      ]
    },
    {
      "cell_type": "code",
      "metadata": {
        "id": "qN3X9mRdR7nS",
        "colab_type": "code",
        "colab": {}
      },
      "source": [
        "if 'ner' not in nlp.pipe_names:\n",
        "    ner = nlp.create_pipe('ner')\n",
        "    nlp.add_pipe(ner, last=True)\n",
        "else:\n",
        "    ner = nlp.get_pipe('ner')"
      ],
      "execution_count": 27,
      "outputs": []
    },
    {
      "cell_type": "code",
      "metadata": {
        "id": "q9ex4TvFSORa",
        "colab_type": "code",
        "colab": {
          "base_uri": "https://localhost:8080/",
          "height": 1000
        },
        "outputId": "565d84d4-1667-421a-c59f-a2f979d478c0"
      },
      "source": [
        "for _, annotations in TRAIN_DATA:\n",
        "    for ent in annotations.get('entities'):\n",
        "        ner.add_label(ent[2])\n",
        "\n",
        "other_pipes = [pipe for pipe in nlp.pipe_names if pipe != 'ner']\n",
        "with nlp.disable_pipes(*other_pipes):\n",
        "    optimizer = nlp.begin_training()\n",
        "    for itn in range(n_iter):\n",
        "        random.shuffle(TRAIN_DATA)\n",
        "        losses = {}\n",
        "        for text, annotations in tqdm(TRAIN_DATA):\n",
        "            nlp.update(\n",
        "                [text],  \n",
        "                [annotations],  \n",
        "                drop=0.5,  \n",
        "                sgd=optimizer,\n",
        "                losses=losses)\n",
        "        print(losses)"
      ],
      "execution_count": 28,
      "outputs": [
        {
          "output_type": "stream",
          "text": [
            "100%|██████████| 5/5 [00:08<00:00,  1.61s/it]\n",
            " 40%|████      | 2/5 [00:00<00:00, 12.45it/s]"
          ],
          "name": "stderr"
        },
        {
          "output_type": "stream",
          "text": [
            "{'ner': 166.6735467016697}\n"
          ],
          "name": "stdout"
        },
        {
          "output_type": "stream",
          "text": [
            "100%|██████████| 5/5 [00:00<00:00, 16.01it/s]\n",
            " 60%|██████    | 3/5 [00:00<00:00, 19.93it/s]"
          ],
          "name": "stderr"
        },
        {
          "output_type": "stream",
          "text": [
            "{'ner': 67.46308305859566}\n"
          ],
          "name": "stdout"
        },
        {
          "output_type": "stream",
          "text": [
            "100%|██████████| 5/5 [00:00<00:00, 19.52it/s]\n",
            " 40%|████      | 2/5 [00:00<00:00, 14.54it/s]"
          ],
          "name": "stderr"
        },
        {
          "output_type": "stream",
          "text": [
            "{'ner': 15.63125012911459}\n"
          ],
          "name": "stdout"
        },
        {
          "output_type": "stream",
          "text": [
            "100%|██████████| 5/5 [00:00<00:00, 15.81it/s]\n",
            " 40%|████      | 2/5 [00:00<00:00, 15.91it/s]"
          ],
          "name": "stderr"
        },
        {
          "output_type": "stream",
          "text": [
            "{'ner': 9.98341962770403}\n"
          ],
          "name": "stdout"
        },
        {
          "output_type": "stream",
          "text": [
            "100%|██████████| 5/5 [00:00<00:00, 14.24it/s]\n",
            " 40%|████      | 2/5 [00:00<00:00, 14.94it/s]"
          ],
          "name": "stderr"
        },
        {
          "output_type": "stream",
          "text": [
            "{'ner': 9.900166390855215}\n"
          ],
          "name": "stdout"
        },
        {
          "output_type": "stream",
          "text": [
            "100%|██████████| 5/5 [00:00<00:00, 15.19it/s]\n",
            " 40%|████      | 2/5 [00:00<00:00, 14.27it/s]"
          ],
          "name": "stderr"
        },
        {
          "output_type": "stream",
          "text": [
            "{'ner': 9.562607346858943}\n"
          ],
          "name": "stdout"
        },
        {
          "output_type": "stream",
          "text": [
            "100%|██████████| 5/5 [00:00<00:00, 13.68it/s]\n",
            " 60%|██████    | 3/5 [00:00<00:00, 19.21it/s]"
          ],
          "name": "stderr"
        },
        {
          "output_type": "stream",
          "text": [
            "{'ner': 9.98098647112937}\n"
          ],
          "name": "stdout"
        },
        {
          "output_type": "stream",
          "text": [
            "100%|██████████| 5/5 [00:00<00:00, 16.71it/s]\n",
            " 40%|████      | 2/5 [00:00<00:00, 18.71it/s]"
          ],
          "name": "stderr"
        },
        {
          "output_type": "stream",
          "text": [
            "{'ner': 9.651554656403277}\n"
          ],
          "name": "stdout"
        },
        {
          "output_type": "stream",
          "text": [
            "100%|██████████| 5/5 [00:00<00:00, 16.23it/s]\n",
            " 20%|██        | 1/5 [00:00<00:00,  9.39it/s]"
          ],
          "name": "stderr"
        },
        {
          "output_type": "stream",
          "text": [
            "{'ner': 9.768030397979146}\n"
          ],
          "name": "stdout"
        },
        {
          "output_type": "stream",
          "text": [
            "100%|██████████| 5/5 [00:00<00:00, 13.35it/s]\n",
            " 40%|████      | 2/5 [00:00<00:00, 19.28it/s]"
          ],
          "name": "stderr"
        },
        {
          "output_type": "stream",
          "text": [
            "{'ner': 9.384328566764594}\n"
          ],
          "name": "stdout"
        },
        {
          "output_type": "stream",
          "text": [
            "100%|██████████| 5/5 [00:00<00:00, 17.53it/s]\n",
            " 40%|████      | 2/5 [00:00<00:00, 15.41it/s]"
          ],
          "name": "stderr"
        },
        {
          "output_type": "stream",
          "text": [
            "{'ner': 9.443297023987615}\n"
          ],
          "name": "stdout"
        },
        {
          "output_type": "stream",
          "text": [
            "100%|██████████| 5/5 [00:00<00:00, 13.81it/s]\n",
            " 60%|██████    | 3/5 [00:00<00:00, 19.70it/s]"
          ],
          "name": "stderr"
        },
        {
          "output_type": "stream",
          "text": [
            "{'ner': 8.152932900892722}\n"
          ],
          "name": "stdout"
        },
        {
          "output_type": "stream",
          "text": [
            "100%|██████████| 5/5 [00:00<00:00, 19.32it/s]\n",
            " 40%|████      | 2/5 [00:00<00:00, 16.61it/s]"
          ],
          "name": "stderr"
        },
        {
          "output_type": "stream",
          "text": [
            "{'ner': 6.768777179044207}\n"
          ],
          "name": "stdout"
        },
        {
          "output_type": "stream",
          "text": [
            "100%|██████████| 5/5 [00:00<00:00, 16.66it/s]\n",
            " 40%|████      | 2/5 [00:00<00:00, 18.34it/s]"
          ],
          "name": "stderr"
        },
        {
          "output_type": "stream",
          "text": [
            "{'ner': 5.191972579622334}\n"
          ],
          "name": "stdout"
        },
        {
          "output_type": "stream",
          "text": [
            "100%|██████████| 5/5 [00:00<00:00, 16.60it/s]\n",
            " 60%|██████    | 3/5 [00:00<00:00, 15.47it/s]"
          ],
          "name": "stderr"
        },
        {
          "output_type": "stream",
          "text": [
            "{'ner': 7.128466839280162}\n"
          ],
          "name": "stdout"
        },
        {
          "output_type": "stream",
          "text": [
            "100%|██████████| 5/5 [00:00<00:00, 17.59it/s]\n",
            " 40%|████      | 2/5 [00:00<00:00, 13.32it/s]"
          ],
          "name": "stderr"
        },
        {
          "output_type": "stream",
          "text": [
            "{'ner': 6.287720135048861}\n"
          ],
          "name": "stdout"
        },
        {
          "output_type": "stream",
          "text": [
            "100%|██████████| 5/5 [00:00<00:00, 16.65it/s]\n",
            " 60%|██████    | 3/5 [00:00<00:00, 20.39it/s]"
          ],
          "name": "stderr"
        },
        {
          "output_type": "stream",
          "text": [
            "{'ner': 2.490875890563308}\n"
          ],
          "name": "stdout"
        },
        {
          "output_type": "stream",
          "text": [
            "100%|██████████| 5/5 [00:00<00:00, 15.76it/s]\n",
            " 40%|████      | 2/5 [00:00<00:00, 17.05it/s]"
          ],
          "name": "stderr"
        },
        {
          "output_type": "stream",
          "text": [
            "{'ner': 3.19281229729749}\n"
          ],
          "name": "stdout"
        },
        {
          "output_type": "stream",
          "text": [
            "100%|██████████| 5/5 [00:00<00:00, 14.46it/s]\n",
            " 40%|████      | 2/5 [00:00<00:00, 18.67it/s]"
          ],
          "name": "stderr"
        },
        {
          "output_type": "stream",
          "text": [
            "{'ner': 1.728467190680599}\n"
          ],
          "name": "stdout"
        },
        {
          "output_type": "stream",
          "text": [
            "100%|██████████| 5/5 [00:00<00:00, 16.52it/s]\n",
            " 40%|████      | 2/5 [00:00<00:00, 19.07it/s]"
          ],
          "name": "stderr"
        },
        {
          "output_type": "stream",
          "text": [
            "{'ner': 3.0453841740980923}\n"
          ],
          "name": "stdout"
        },
        {
          "output_type": "stream",
          "text": [
            "100%|██████████| 5/5 [00:00<00:00, 17.75it/s]\n",
            " 40%|████      | 2/5 [00:00<00:00, 18.83it/s]"
          ],
          "name": "stderr"
        },
        {
          "output_type": "stream",
          "text": [
            "{'ner': 0.618494001348489}\n"
          ],
          "name": "stdout"
        },
        {
          "output_type": "stream",
          "text": [
            "100%|██████████| 5/5 [00:00<00:00, 15.87it/s]\n",
            " 60%|██████    | 3/5 [00:00<00:00, 15.12it/s]"
          ],
          "name": "stderr"
        },
        {
          "output_type": "stream",
          "text": [
            "{'ner': 0.21236622629466012}\n"
          ],
          "name": "stdout"
        },
        {
          "output_type": "stream",
          "text": [
            "100%|██████████| 5/5 [00:00<00:00, 14.13it/s]\n",
            " 40%|████      | 2/5 [00:00<00:00, 17.82it/s]"
          ],
          "name": "stderr"
        },
        {
          "output_type": "stream",
          "text": [
            "{'ner': 1.7662937106312229}\n"
          ],
          "name": "stdout"
        },
        {
          "output_type": "stream",
          "text": [
            "100%|██████████| 5/5 [00:00<00:00, 16.44it/s]\n",
            " 40%|████      | 2/5 [00:00<00:00, 18.23it/s]"
          ],
          "name": "stderr"
        },
        {
          "output_type": "stream",
          "text": [
            "{'ner': 0.0022431801621504086}\n"
          ],
          "name": "stdout"
        },
        {
          "output_type": "stream",
          "text": [
            "100%|██████████| 5/5 [00:00<00:00, 15.59it/s]\n",
            " 40%|████      | 2/5 [00:00<00:00, 16.67it/s]"
          ],
          "name": "stderr"
        },
        {
          "output_type": "stream",
          "text": [
            "{'ner': 0.0010031365337518}\n"
          ],
          "name": "stdout"
        },
        {
          "output_type": "stream",
          "text": [
            "100%|██████████| 5/5 [00:00<00:00, 16.38it/s]\n",
            " 40%|████      | 2/5 [00:00<00:00, 15.45it/s]"
          ],
          "name": "stderr"
        },
        {
          "output_type": "stream",
          "text": [
            "{'ner': 0.014216161353928012}\n"
          ],
          "name": "stdout"
        },
        {
          "output_type": "stream",
          "text": [
            "100%|██████████| 5/5 [00:00<00:00, 14.70it/s]\n",
            " 60%|██████    | 3/5 [00:00<00:00, 19.41it/s]"
          ],
          "name": "stderr"
        },
        {
          "output_type": "stream",
          "text": [
            "{'ner': 0.040261693016712674}\n"
          ],
          "name": "stdout"
        },
        {
          "output_type": "stream",
          "text": [
            "100%|██████████| 5/5 [00:00<00:00, 15.35it/s]\n",
            " 40%|████      | 2/5 [00:00<00:00, 15.64it/s]"
          ],
          "name": "stderr"
        },
        {
          "output_type": "stream",
          "text": [
            "{'ner': 0.0023748711670873073}\n"
          ],
          "name": "stdout"
        },
        {
          "output_type": "stream",
          "text": [
            "100%|██████████| 5/5 [00:00<00:00, 16.61it/s]\n",
            " 40%|████      | 2/5 [00:00<00:00, 14.51it/s]"
          ],
          "name": "stderr"
        },
        {
          "output_type": "stream",
          "text": [
            "{'ner': 9.453822598120118e-05}\n"
          ],
          "name": "stdout"
        },
        {
          "output_type": "stream",
          "text": [
            "100%|██████████| 5/5 [00:00<00:00, 14.20it/s]\n",
            " 40%|████      | 2/5 [00:00<00:00, 17.29it/s]"
          ],
          "name": "stderr"
        },
        {
          "output_type": "stream",
          "text": [
            "{'ner': 0.0013270629761564616}\n"
          ],
          "name": "stdout"
        },
        {
          "output_type": "stream",
          "text": [
            "100%|██████████| 5/5 [00:00<00:00, 18.92it/s]\n",
            " 40%|████      | 2/5 [00:00<00:00, 18.28it/s]"
          ],
          "name": "stderr"
        },
        {
          "output_type": "stream",
          "text": [
            "{'ner': 0.09579262833354348}\n"
          ],
          "name": "stdout"
        },
        {
          "output_type": "stream",
          "text": [
            "100%|██████████| 5/5 [00:00<00:00, 18.10it/s]\n",
            " 40%|████      | 2/5 [00:00<00:00, 18.19it/s]"
          ],
          "name": "stderr"
        },
        {
          "output_type": "stream",
          "text": [
            "{'ner': 7.021787918397558e-05}\n"
          ],
          "name": "stdout"
        },
        {
          "output_type": "stream",
          "text": [
            "100%|██████████| 5/5 [00:00<00:00, 16.52it/s]\n",
            " 60%|██████    | 3/5 [00:00<00:00, 22.00it/s]"
          ],
          "name": "stderr"
        },
        {
          "output_type": "stream",
          "text": [
            "{'ner': 0.0005107320053259416}\n"
          ],
          "name": "stdout"
        },
        {
          "output_type": "stream",
          "text": [
            "100%|██████████| 5/5 [00:00<00:00, 20.71it/s]\n",
            " 40%|████      | 2/5 [00:00<00:00, 12.76it/s]"
          ],
          "name": "stderr"
        },
        {
          "output_type": "stream",
          "text": [
            "{'ner': 0.004374132081153366}\n"
          ],
          "name": "stdout"
        },
        {
          "output_type": "stream",
          "text": [
            "100%|██████████| 5/5 [00:00<00:00, 15.63it/s]\n",
            " 40%|████      | 2/5 [00:00<00:00, 15.00it/s]"
          ],
          "name": "stderr"
        },
        {
          "output_type": "stream",
          "text": [
            "{'ner': 2.9667714329692817e-06}\n"
          ],
          "name": "stdout"
        },
        {
          "output_type": "stream",
          "text": [
            "100%|██████████| 5/5 [00:00<00:00, 17.67it/s]\n",
            " 40%|████      | 2/5 [00:00<00:00, 18.65it/s]"
          ],
          "name": "stderr"
        },
        {
          "output_type": "stream",
          "text": [
            "{'ner': 0.00010458504490841572}\n"
          ],
          "name": "stdout"
        },
        {
          "output_type": "stream",
          "text": [
            "100%|██████████| 5/5 [00:00<00:00, 15.09it/s]\n",
            " 40%|████      | 2/5 [00:00<00:00, 19.79it/s]"
          ],
          "name": "stderr"
        },
        {
          "output_type": "stream",
          "text": [
            "{'ner': 5.97086341513246e-07}\n"
          ],
          "name": "stdout"
        },
        {
          "output_type": "stream",
          "text": [
            "100%|██████████| 5/5 [00:00<00:00, 15.68it/s]\n",
            " 40%|████      | 2/5 [00:00<00:00, 11.87it/s]"
          ],
          "name": "stderr"
        },
        {
          "output_type": "stream",
          "text": [
            "{'ner': 4.1130318451364134e-06}\n"
          ],
          "name": "stdout"
        },
        {
          "output_type": "stream",
          "text": [
            "100%|██████████| 5/5 [00:00<00:00, 14.86it/s]\n",
            " 40%|████      | 2/5 [00:00<00:00, 16.67it/s]"
          ],
          "name": "stderr"
        },
        {
          "output_type": "stream",
          "text": [
            "{'ner': 3.2069609346138263e-07}\n"
          ],
          "name": "stdout"
        },
        {
          "output_type": "stream",
          "text": [
            "100%|██████████| 5/5 [00:00<00:00, 15.01it/s]\n",
            " 60%|██████    | 3/5 [00:00<00:00, 18.68it/s]"
          ],
          "name": "stderr"
        },
        {
          "output_type": "stream",
          "text": [
            "{'ner': 0.027139891107495758}\n"
          ],
          "name": "stdout"
        },
        {
          "output_type": "stream",
          "text": [
            "100%|██████████| 5/5 [00:00<00:00, 18.90it/s]\n",
            " 40%|████      | 2/5 [00:00<00:00, 18.68it/s]"
          ],
          "name": "stderr"
        },
        {
          "output_type": "stream",
          "text": [
            "{'ner': 2.6411082965000286e-05}\n"
          ],
          "name": "stdout"
        },
        {
          "output_type": "stream",
          "text": [
            "100%|██████████| 5/5 [00:00<00:00, 15.87it/s]\n",
            " 60%|██████    | 3/5 [00:00<00:00, 16.70it/s]"
          ],
          "name": "stderr"
        },
        {
          "output_type": "stream",
          "text": [
            "{'ner': 0.6587352551995022}\n"
          ],
          "name": "stdout"
        },
        {
          "output_type": "stream",
          "text": [
            "100%|██████████| 5/5 [00:00<00:00, 13.54it/s]\n",
            " 60%|██████    | 3/5 [00:00<00:00, 17.90it/s]"
          ],
          "name": "stderr"
        },
        {
          "output_type": "stream",
          "text": [
            "{'ner': 3.115044539807535e-05}\n"
          ],
          "name": "stdout"
        },
        {
          "output_type": "stream",
          "text": [
            "100%|██████████| 5/5 [00:00<00:00, 17.63it/s]\n",
            " 40%|████      | 2/5 [00:00<00:00, 19.67it/s]"
          ],
          "name": "stderr"
        },
        {
          "output_type": "stream",
          "text": [
            "{'ner': 1.7256703500863217}\n"
          ],
          "name": "stdout"
        },
        {
          "output_type": "stream",
          "text": [
            "100%|██████████| 5/5 [00:00<00:00, 15.76it/s]\n",
            " 40%|████      | 2/5 [00:00<00:00, 18.75it/s]"
          ],
          "name": "stderr"
        },
        {
          "output_type": "stream",
          "text": [
            "{'ner': 1.038431124168136e-07}\n"
          ],
          "name": "stdout"
        },
        {
          "output_type": "stream",
          "text": [
            "100%|██████████| 5/5 [00:00<00:00, 13.99it/s]\n",
            " 40%|████      | 2/5 [00:00<00:00, 18.17it/s]"
          ],
          "name": "stderr"
        },
        {
          "output_type": "stream",
          "text": [
            "{'ner': 0.0019106454088590062}\n"
          ],
          "name": "stdout"
        },
        {
          "output_type": "stream",
          "text": [
            "100%|██████████| 5/5 [00:00<00:00, 17.29it/s]\n",
            " 40%|████      | 2/5 [00:00<00:00, 18.77it/s]"
          ],
          "name": "stderr"
        },
        {
          "output_type": "stream",
          "text": [
            "{'ner': 1.2976609908380862e-08}\n"
          ],
          "name": "stdout"
        },
        {
          "output_type": "stream",
          "text": [
            "100%|██████████| 5/5 [00:00<00:00, 19.46it/s]\n",
            " 20%|██        | 1/5 [00:00<00:00,  9.95it/s]"
          ],
          "name": "stderr"
        },
        {
          "output_type": "stream",
          "text": [
            "{'ner': 3.674844309065349e-07}\n"
          ],
          "name": "stdout"
        },
        {
          "output_type": "stream",
          "text": [
            "100%|██████████| 5/5 [00:00<00:00, 15.19it/s]\n",
            " 40%|████      | 2/5 [00:00<00:00, 19.43it/s]"
          ],
          "name": "stderr"
        },
        {
          "output_type": "stream",
          "text": [
            "{'ner': 0.04151642700568576}\n"
          ],
          "name": "stdout"
        },
        {
          "output_type": "stream",
          "text": [
            "100%|██████████| 5/5 [00:00<00:00, 17.87it/s]\n",
            " 60%|██████    | 3/5 [00:00<00:00, 20.58it/s]"
          ],
          "name": "stderr"
        },
        {
          "output_type": "stream",
          "text": [
            "{'ner': 1.2045954861041282e-05}\n"
          ],
          "name": "stdout"
        },
        {
          "output_type": "stream",
          "text": [
            "100%|██████████| 5/5 [00:00<00:00, 15.15it/s]\n",
            " 60%|██████    | 3/5 [00:00<00:00, 15.26it/s]"
          ],
          "name": "stderr"
        },
        {
          "output_type": "stream",
          "text": [
            "{'ner': 1.486559681588398e-05}\n"
          ],
          "name": "stdout"
        },
        {
          "output_type": "stream",
          "text": [
            "100%|██████████| 5/5 [00:00<00:00, 14.82it/s]\n",
            " 40%|████      | 2/5 [00:00<00:00, 14.41it/s]"
          ],
          "name": "stderr"
        },
        {
          "output_type": "stream",
          "text": [
            "{'ner': 2.3510363171040104e-10}\n"
          ],
          "name": "stdout"
        },
        {
          "output_type": "stream",
          "text": [
            "100%|██████████| 5/5 [00:00<00:00, 16.31it/s]\n",
            " 40%|████      | 2/5 [00:00<00:00, 17.80it/s]"
          ],
          "name": "stderr"
        },
        {
          "output_type": "stream",
          "text": [
            "{'ner': 1.2799272588692017e-06}\n"
          ],
          "name": "stdout"
        },
        {
          "output_type": "stream",
          "text": [
            "100%|██████████| 5/5 [00:00<00:00, 18.48it/s]\n",
            " 60%|██████    | 3/5 [00:00<00:00, 19.41it/s]"
          ],
          "name": "stderr"
        },
        {
          "output_type": "stream",
          "text": [
            "{'ner': 7.216800166962482e-07}\n"
          ],
          "name": "stdout"
        },
        {
          "output_type": "stream",
          "text": [
            "100%|██████████| 5/5 [00:00<00:00, 16.95it/s]\n",
            " 40%|████      | 2/5 [00:00<00:00, 16.98it/s]"
          ],
          "name": "stderr"
        },
        {
          "output_type": "stream",
          "text": [
            "{'ner': 1.2924665829843328e-06}\n"
          ],
          "name": "stdout"
        },
        {
          "output_type": "stream",
          "text": [
            "100%|██████████| 5/5 [00:00<00:00, 14.02it/s]\n",
            " 40%|████      | 2/5 [00:00<00:00, 18.32it/s]"
          ],
          "name": "stderr"
        },
        {
          "output_type": "stream",
          "text": [
            "{'ner': 3.440655345347449e-05}\n"
          ],
          "name": "stdout"
        },
        {
          "output_type": "stream",
          "text": [
            "100%|██████████| 5/5 [00:00<00:00, 17.84it/s]\n",
            " 40%|████      | 2/5 [00:00<00:00, 19.03it/s]"
          ],
          "name": "stderr"
        },
        {
          "output_type": "stream",
          "text": [
            "{'ner': 0.0007938328140603057}\n"
          ],
          "name": "stdout"
        },
        {
          "output_type": "stream",
          "text": [
            "100%|██████████| 5/5 [00:00<00:00, 16.00it/s]\n",
            " 40%|████      | 2/5 [00:00<00:00, 19.96it/s]"
          ],
          "name": "stderr"
        },
        {
          "output_type": "stream",
          "text": [
            "{'ner': 0.0001366153728802085}\n"
          ],
          "name": "stdout"
        },
        {
          "output_type": "stream",
          "text": [
            "100%|██████████| 5/5 [00:00<00:00, 16.68it/s]\n",
            " 40%|████      | 2/5 [00:00<00:00, 15.38it/s]"
          ],
          "name": "stderr"
        },
        {
          "output_type": "stream",
          "text": [
            "{'ner': 1.3969281568440357e-07}\n"
          ],
          "name": "stdout"
        },
        {
          "output_type": "stream",
          "text": [
            "100%|██████████| 5/5 [00:00<00:00, 15.13it/s]\n",
            " 40%|████      | 2/5 [00:00<00:00, 19.49it/s]"
          ],
          "name": "stderr"
        },
        {
          "output_type": "stream",
          "text": [
            "{'ner': 1.2345537880138893e-10}\n"
          ],
          "name": "stdout"
        },
        {
          "output_type": "stream",
          "text": [
            "100%|██████████| 5/5 [00:00<00:00, 18.64it/s]\n",
            " 40%|████      | 2/5 [00:00<00:00, 16.05it/s]"
          ],
          "name": "stderr"
        },
        {
          "output_type": "stream",
          "text": [
            "{'ner': 7.43662647907671e-11}\n"
          ],
          "name": "stdout"
        },
        {
          "output_type": "stream",
          "text": [
            "100%|██████████| 5/5 [00:00<00:00, 14.75it/s]\n",
            " 40%|████      | 2/5 [00:00<00:00, 13.25it/s]"
          ],
          "name": "stderr"
        },
        {
          "output_type": "stream",
          "text": [
            "{'ner': 1.4489647746250286e-08}\n"
          ],
          "name": "stdout"
        },
        {
          "output_type": "stream",
          "text": [
            "100%|██████████| 5/5 [00:00<00:00, 14.82it/s]\n",
            " 40%|████      | 2/5 [00:00<00:00, 13.96it/s]"
          ],
          "name": "stderr"
        },
        {
          "output_type": "stream",
          "text": [
            "{'ner': 3.16981014914509e-05}\n"
          ],
          "name": "stdout"
        },
        {
          "output_type": "stream",
          "text": [
            "100%|██████████| 5/5 [00:00<00:00, 15.29it/s]\n",
            " 40%|████      | 2/5 [00:00<00:00, 14.38it/s]"
          ],
          "name": "stderr"
        },
        {
          "output_type": "stream",
          "text": [
            "{'ner': 3.386156938532901e-10}\n"
          ],
          "name": "stdout"
        },
        {
          "output_type": "stream",
          "text": [
            "100%|██████████| 5/5 [00:00<00:00, 13.99it/s]\n",
            " 40%|████      | 2/5 [00:00<00:00, 19.04it/s]"
          ],
          "name": "stderr"
        },
        {
          "output_type": "stream",
          "text": [
            "{'ner': 5.0485830390660004e-08}\n"
          ],
          "name": "stdout"
        },
        {
          "output_type": "stream",
          "text": [
            "100%|██████████| 5/5 [00:00<00:00, 14.00it/s]\n",
            " 40%|████      | 2/5 [00:00<00:00, 15.03it/s]"
          ],
          "name": "stderr"
        },
        {
          "output_type": "stream",
          "text": [
            "{'ner': 3.8078919980861816e-09}\n"
          ],
          "name": "stdout"
        },
        {
          "output_type": "stream",
          "text": [
            "100%|██████████| 5/5 [00:00<00:00, 16.97it/s]\n",
            " 40%|████      | 2/5 [00:00<00:00, 12.56it/s]"
          ],
          "name": "stderr"
        },
        {
          "output_type": "stream",
          "text": [
            "{'ner': 2.3512252726254633e-10}\n"
          ],
          "name": "stdout"
        },
        {
          "output_type": "stream",
          "text": [
            "100%|██████████| 5/5 [00:00<00:00, 14.40it/s]\n",
            " 40%|████      | 2/5 [00:00<00:00, 16.27it/s]"
          ],
          "name": "stderr"
        },
        {
          "output_type": "stream",
          "text": [
            "{'ner': 2.0769622862967645e-07}\n"
          ],
          "name": "stdout"
        },
        {
          "output_type": "stream",
          "text": [
            "100%|██████████| 5/5 [00:00<00:00, 15.83it/s]\n",
            " 40%|████      | 2/5 [00:00<00:00, 16.34it/s]"
          ],
          "name": "stderr"
        },
        {
          "output_type": "stream",
          "text": [
            "{'ner': 1.492565962547369e-10}\n"
          ],
          "name": "stdout"
        },
        {
          "output_type": "stream",
          "text": [
            "100%|██████████| 5/5 [00:00<00:00, 15.95it/s]\n",
            " 40%|████      | 2/5 [00:00<00:00, 16.30it/s]"
          ],
          "name": "stderr"
        },
        {
          "output_type": "stream",
          "text": [
            "{'ner': 2.939961000141711e-07}\n"
          ],
          "name": "stdout"
        },
        {
          "output_type": "stream",
          "text": [
            "100%|██████████| 5/5 [00:00<00:00, 14.11it/s]\n",
            " 40%|████      | 2/5 [00:00<00:00, 13.16it/s]"
          ],
          "name": "stderr"
        },
        {
          "output_type": "stream",
          "text": [
            "{'ner': 9.371860306991916e-09}\n"
          ],
          "name": "stdout"
        },
        {
          "output_type": "stream",
          "text": [
            "100%|██████████| 5/5 [00:00<00:00, 15.46it/s]\n",
            " 20%|██        | 1/5 [00:00<00:00,  9.59it/s]"
          ],
          "name": "stderr"
        },
        {
          "output_type": "stream",
          "text": [
            "{'ner': 7.243716277325397e-11}\n"
          ],
          "name": "stdout"
        },
        {
          "output_type": "stream",
          "text": [
            "100%|██████████| 5/5 [00:00<00:00, 14.58it/s]\n",
            " 40%|████      | 2/5 [00:00<00:00, 19.54it/s]"
          ],
          "name": "stderr"
        },
        {
          "output_type": "stream",
          "text": [
            "{'ner': 1.831105636025908e-12}\n"
          ],
          "name": "stdout"
        },
        {
          "output_type": "stream",
          "text": [
            "100%|██████████| 5/5 [00:00<00:00, 17.00it/s]\n",
            " 40%|████      | 2/5 [00:00<00:00, 15.85it/s]"
          ],
          "name": "stderr"
        },
        {
          "output_type": "stream",
          "text": [
            "{'ner': 3.15176049122455e-08}\n"
          ],
          "name": "stdout"
        },
        {
          "output_type": "stream",
          "text": [
            "100%|██████████| 5/5 [00:00<00:00, 15.69it/s]\n",
            " 40%|████      | 2/5 [00:00<00:00, 18.83it/s]"
          ],
          "name": "stderr"
        },
        {
          "output_type": "stream",
          "text": [
            "{'ner': 2.2818877637579855e-06}\n"
          ],
          "name": "stdout"
        },
        {
          "output_type": "stream",
          "text": [
            "100%|██████████| 5/5 [00:00<00:00, 17.64it/s]\n",
            " 40%|████      | 2/5 [00:00<00:00, 18.81it/s]"
          ],
          "name": "stderr"
        },
        {
          "output_type": "stream",
          "text": [
            "{'ner': 1.2785289353305992e-07}\n"
          ],
          "name": "stdout"
        },
        {
          "output_type": "stream",
          "text": [
            "100%|██████████| 5/5 [00:00<00:00, 17.11it/s]\n",
            " 40%|████      | 2/5 [00:00<00:00, 12.97it/s]"
          ],
          "name": "stderr"
        },
        {
          "output_type": "stream",
          "text": [
            "{'ner': 4.7354204967640967e-11}\n"
          ],
          "name": "stdout"
        },
        {
          "output_type": "stream",
          "text": [
            "100%|██████████| 5/5 [00:00<00:00, 14.32it/s]\n",
            " 40%|████      | 2/5 [00:00<00:00, 19.50it/s]"
          ],
          "name": "stderr"
        },
        {
          "output_type": "stream",
          "text": [
            "{'ner': 2.413441795279944e-10}\n"
          ],
          "name": "stdout"
        },
        {
          "output_type": "stream",
          "text": [
            "100%|██████████| 5/5 [00:00<00:00, 16.42it/s]\n",
            " 40%|████      | 2/5 [00:00<00:00, 15.78it/s]"
          ],
          "name": "stderr"
        },
        {
          "output_type": "stream",
          "text": [
            "{'ner': 1.0817841191938582e-09}\n"
          ],
          "name": "stdout"
        },
        {
          "output_type": "stream",
          "text": [
            "100%|██████████| 5/5 [00:00<00:00, 14.28it/s]\n",
            " 40%|████      | 2/5 [00:00<00:00, 12.72it/s]"
          ],
          "name": "stderr"
        },
        {
          "output_type": "stream",
          "text": [
            "{'ner': 2.1508191923324545e-06}\n"
          ],
          "name": "stdout"
        },
        {
          "output_type": "stream",
          "text": [
            "100%|██████████| 5/5 [00:00<00:00, 14.68it/s]\n",
            " 40%|████      | 2/5 [00:00<00:00, 18.72it/s]"
          ],
          "name": "stderr"
        },
        {
          "output_type": "stream",
          "text": [
            "{'ner': 0.07680388537694835}\n"
          ],
          "name": "stdout"
        },
        {
          "output_type": "stream",
          "text": [
            "100%|██████████| 5/5 [00:00<00:00, 19.15it/s]\n",
            " 40%|████      | 2/5 [00:00<00:00, 15.95it/s]"
          ],
          "name": "stderr"
        },
        {
          "output_type": "stream",
          "text": [
            "{'ner': 3.633383073361755e-08}\n"
          ],
          "name": "stdout"
        },
        {
          "output_type": "stream",
          "text": [
            "100%|██████████| 5/5 [00:00<00:00, 15.18it/s]\n",
            " 40%|████      | 2/5 [00:00<00:00, 15.21it/s]"
          ],
          "name": "stderr"
        },
        {
          "output_type": "stream",
          "text": [
            "{'ner': 0.24539120568114955}\n"
          ],
          "name": "stdout"
        },
        {
          "output_type": "stream",
          "text": [
            "100%|██████████| 5/5 [00:00<00:00, 14.80it/s]\n",
            " 40%|████      | 2/5 [00:00<00:00, 19.12it/s]"
          ],
          "name": "stderr"
        },
        {
          "output_type": "stream",
          "text": [
            "{'ner': 0.0006450546218787582}\n"
          ],
          "name": "stdout"
        },
        {
          "output_type": "stream",
          "text": [
            "100%|██████████| 5/5 [00:00<00:00, 16.86it/s]\n",
            " 60%|██████    | 3/5 [00:00<00:00, 17.61it/s]"
          ],
          "name": "stderr"
        },
        {
          "output_type": "stream",
          "text": [
            "{'ner': 0.00036647443965968815}\n"
          ],
          "name": "stdout"
        },
        {
          "output_type": "stream",
          "text": [
            "100%|██████████| 5/5 [00:00<00:00, 16.75it/s]\n",
            " 40%|████      | 2/5 [00:00<00:00, 17.05it/s]"
          ],
          "name": "stderr"
        },
        {
          "output_type": "stream",
          "text": [
            "{'ner': 1.8494410483987836e-06}\n"
          ],
          "name": "stdout"
        },
        {
          "output_type": "stream",
          "text": [
            "100%|██████████| 5/5 [00:00<00:00, 15.52it/s]\n",
            " 40%|████      | 2/5 [00:00<00:00, 18.51it/s]"
          ],
          "name": "stderr"
        },
        {
          "output_type": "stream",
          "text": [
            "{'ner': 1.0714875816964466}\n"
          ],
          "name": "stdout"
        },
        {
          "output_type": "stream",
          "text": [
            "100%|██████████| 5/5 [00:00<00:00, 15.11it/s]\n",
            " 40%|████      | 2/5 [00:00<00:00, 18.87it/s]"
          ],
          "name": "stderr"
        },
        {
          "output_type": "stream",
          "text": [
            "{'ner': 5.27156823845439e-07}\n"
          ],
          "name": "stdout"
        },
        {
          "output_type": "stream",
          "text": [
            "100%|██████████| 5/5 [00:00<00:00, 17.64it/s]\n",
            " 60%|██████    | 3/5 [00:00<00:00, 21.36it/s]"
          ],
          "name": "stderr"
        },
        {
          "output_type": "stream",
          "text": [
            "{'ner': 1.8570147548131704e-06}\n"
          ],
          "name": "stdout"
        },
        {
          "output_type": "stream",
          "text": [
            "100%|██████████| 5/5 [00:00<00:00, 17.47it/s]\n",
            " 40%|████      | 2/5 [00:00<00:00, 17.34it/s]"
          ],
          "name": "stderr"
        },
        {
          "output_type": "stream",
          "text": [
            "{'ner': 1.693064502536213e-09}\n"
          ],
          "name": "stdout"
        },
        {
          "output_type": "stream",
          "text": [
            "100%|██████████| 5/5 [00:00<00:00, 13.78it/s]\n",
            " 40%|████      | 2/5 [00:00<00:00, 18.70it/s]"
          ],
          "name": "stderr"
        },
        {
          "output_type": "stream",
          "text": [
            "{'ner': 3.0550590418355545e-12}\n"
          ],
          "name": "stdout"
        },
        {
          "output_type": "stream",
          "text": [
            "100%|██████████| 5/5 [00:00<00:00, 16.52it/s]\n",
            " 40%|████      | 2/5 [00:00<00:00, 15.27it/s]"
          ],
          "name": "stderr"
        },
        {
          "output_type": "stream",
          "text": [
            "{'ner': 1.2826264273082844e-10}\n"
          ],
          "name": "stdout"
        },
        {
          "output_type": "stream",
          "text": [
            "100%|██████████| 5/5 [00:00<00:00, 15.69it/s]\n",
            " 40%|████      | 2/5 [00:00<00:00, 14.74it/s]"
          ],
          "name": "stderr"
        },
        {
          "output_type": "stream",
          "text": [
            "{'ner': 1.74337693355607e-08}\n"
          ],
          "name": "stdout"
        },
        {
          "output_type": "stream",
          "text": [
            "100%|██████████| 5/5 [00:00<00:00, 14.28it/s]\n",
            " 40%|████      | 2/5 [00:00<00:00, 12.35it/s]"
          ],
          "name": "stderr"
        },
        {
          "output_type": "stream",
          "text": [
            "{'ner': 3.732310037149758e-11}\n"
          ],
          "name": "stdout"
        },
        {
          "output_type": "stream",
          "text": [
            "100%|██████████| 5/5 [00:00<00:00, 14.27it/s]\n",
            " 40%|████      | 2/5 [00:00<00:00, 17.13it/s]"
          ],
          "name": "stderr"
        },
        {
          "output_type": "stream",
          "text": [
            "{'ner': 4.987744864650887e-09}\n"
          ],
          "name": "stdout"
        },
        {
          "output_type": "stream",
          "text": [
            "100%|██████████| 5/5 [00:00<00:00, 13.73it/s]\n",
            " 40%|████      | 2/5 [00:00<00:00, 18.79it/s]"
          ],
          "name": "stderr"
        },
        {
          "output_type": "stream",
          "text": [
            "{'ner': 1.3025343418124025}\n"
          ],
          "name": "stdout"
        },
        {
          "output_type": "stream",
          "text": [
            "100%|██████████| 5/5 [00:00<00:00, 13.73it/s]\n",
            " 40%|████      | 2/5 [00:00<00:00, 13.71it/s]"
          ],
          "name": "stderr"
        },
        {
          "output_type": "stream",
          "text": [
            "{'ner': 3.104261545367348e-08}\n"
          ],
          "name": "stdout"
        },
        {
          "output_type": "stream",
          "text": [
            "100%|██████████| 5/5 [00:00<00:00, 15.60it/s]\n",
            " 40%|████      | 2/5 [00:00<00:00, 17.27it/s]"
          ],
          "name": "stderr"
        },
        {
          "output_type": "stream",
          "text": [
            "{'ner': 3.0612735878607303e-12}\n"
          ],
          "name": "stdout"
        },
        {
          "output_type": "stream",
          "text": [
            "100%|██████████| 5/5 [00:00<00:00, 13.80it/s]\n",
            " 40%|████      | 2/5 [00:00<00:00, 18.30it/s]"
          ],
          "name": "stderr"
        },
        {
          "output_type": "stream",
          "text": [
            "{'ner': 8.878177490890249e-09}\n"
          ],
          "name": "stdout"
        },
        {
          "output_type": "stream",
          "text": [
            "100%|██████████| 5/5 [00:00<00:00, 16.70it/s]"
          ],
          "name": "stderr"
        },
        {
          "output_type": "stream",
          "text": [
            "{'ner': 6.737604830651622e-08}\n"
          ],
          "name": "stdout"
        },
        {
          "output_type": "stream",
          "text": [
            "\n"
          ],
          "name": "stderr"
        }
      ]
    },
    {
      "cell_type": "code",
      "metadata": {
        "id": "T2AkWV0oSsvR",
        "colab_type": "code",
        "colab": {
          "base_uri": "https://localhost:8080/",
          "height": 205
        },
        "outputId": "2893c473-9136-48a5-d160-4077cb752721"
      },
      "source": [
        "for text, _ in TRAIN_DATA:\n",
        "    doc = nlp(text)\n",
        "    print('Entities', [(ent.text, ent.label_) for ent in doc.ents])\n",
        "    print('Tokens', [(t.text, t.ent_type_, t.ent_iob) for t in doc])"
      ],
      "execution_count": 29,
      "outputs": [
        {
          "output_type": "stream",
          "text": [
            "Entities [('modules', 'Tech')]\n",
            "Tokens [('1', '', 2), ('.', '', 2), ('help', '', 2), ('commands', '', 2), (':', '', 2), ('modules', 'Tech', 3), (':', '', 2), ('available', '', 2), ('modules', '', 2), ('keywords', '', 2), (':', '', 2), ('list', '', 2), ('of', '', 2), ('reserved', '', 2), ('python', '', 2), ('keywords', '', 2), ('quit', '', 2), (':', '', 2), ('leave', '', 2), ('help', '', 2), ('to', '', 2), ('get', '', 2), ('help', '', 2), ('on', '', 2), ('a', '', 2), ('keyword', '', 2), (',', '', 2), ('just', '', 2), ('enter', '', 2), ('it', '', 2), (\"'s\", '', 2), ('name', '', 2), ('in', '', 2), ('help.ltam', '', 2), ('-', '', 2), ('feljc', '', 2)]\n",
            "Entities [('software', 'Tech')]\n",
            "Tokens [('1', '', 2), ('.', '', 2), ('software', 'Tech', 3), ('testing', '', 2), ('is', '', 2), ('an', '', 2), ('essential', '', 2), (',', '', 2), ('yet', '', 2), ('time', '', 2), ('-', '', 2), ('consuming', '', 2), (',', '', 2), ('and', '', 2), ('expensive', '', 2), ('activity', '', 2), ('.', '', 2), ('therefore', '', 2), (',', '', 2), ('automation', '', 2), ('of', '', 2), ('any', '', 2), ('aspect', '', 2), ('of', '', 2), ('software', '', 2), ('test', '', 2), ('engineering', '', 2), ('can', '', 2), ('reduce', '', 2), ('testing', '', 2), ('time', '', 2), ('and', '', 2), (',', '', 2), ('in', '', 2), ('the', '', 2), ('long', '', 2), ('-', '', 2), ('run', '', 2), (',', '', 2), ('reduce', '', 2), ('costs', '', 2), ('for', '', 2), ('the', '', 2), ('testing', '', 2), ('activity.while', '', 2), ('there', '', 2), ('are', '', 2), ('many', '', 2), ('research', '', 2), ('directions', '', 2), ('in', '', 2), ('testing', '', 2), ('automation', '', 2), (',', '', 2), ('from', '', 2), ('theory', '', 2), ('through', '', 2), ('application', '', 2), (',', '', 2), ('the', '', 2), ('main', '', 2), ('focus', '', 2), ('of', '', 2), ('this', '', 2), ('special', '', 2), ('issue', '', 2), ('is', '', 2), ('onpartially', '', 2), ('or', '', 2), ('fully', '', 2), ('validated', '', 2), ('tools', '', 2), (',', '', 2), ('techniques', '', 2), (',', '', 2), ('and', '', 2), ('experiences', '', 2), ('.', '', 2)]\n",
            "Entities [('python', 'Tech')]\n",
            "Tokens [('1', '', 2), ('.', '', 2), ('python', 'Tech', 3), ('installation', '', 2), ('on', '', 2), ('linux', '', 2), ('systems', '', 2), (',', '', 2), ('python', '', 2), ('2.x', '', 2), ('is', '', 2), ('already', '', 2), ('installed', '', 2), ('.', '', 2), ('to', '', 2), ('download', '', 2), ('python', '', 2), ('for', '', 2), ('windows', '', 2), ('and', '', 2), ('osx', '', 2), (',', '', 2), ('and', '', 2), ('for', '', 2), ('documentation', '', 2), ('see', '', 2), ('http://python.org/', '', 2)]\n",
            "Entities [('system', 'Tech')]\n",
            "Tokens [('1', '', 2), ('.', '', 2), ('after', '', 2), ('calculating', '', 2), ('coverage', '', 2), ('and', '', 2), ('redundancy', '', 2), ('metrics', '', 2), (',', '', 2), ('the', '', 2), ('system', 'Tech', 3), ('prepares', '', 2), ('a', '', 2), ('list', '', 2), ('of', '', 2), ('test', '', 2), ('artifacts', '', 2), ('in', '', 2), ('no', '', 2), ('particular', '', 2), ('order', '', 2), ('.', '', 2), ('all', '', 2), ('the', '', 2), ('information', '', 2), ('about', '', 2), ('coverage', '', 2), ('ratios', '', 2), (',', '', 2), ('number', '', 2), ('of', '', 2), ('covered', '', 2), ('items', '', 2), ('and', '', 2), ('redundancy', '', 2), ('metrics', '', 2), ('(', '', 2), ('both', '', 2), ('sr', '', 2), ('for', '', 2), ('each', '', 2), ('test', '', 2), ('and', '', 2), ('pr', '', 2), ('for', '', 2), ('each', '', 2), ('test', '', 2), ('pair', '', 2), (')', '', 2), ('is', '', 2), ('available', '', 2), ('for', '', 2), ('exploration', '', 2), ('by', '', 2), ('the', '', 2), ('tester', '', 2), ('.', '', 2)]\n",
            "Entities [('program', 'Tech')]\n",
            "Tokens [('1', '', 2), ('.', '', 2), (' ', '', 2), ('in', '', 2), ('python', '', 2), ('white', '', 2), ('spaces', '', 2), ('are', '', 2), ('important', '', 2), ('!', '', 2), ('the', '', 2), ('indentation', '', 2), ('of', '', 2), ('a', '', 2), ('source', '', 2), ('code', '', 2), ('is', '', 2), ('important', '', 2), ('!', '', 2), ('a', '', 2), ('program', 'Tech', 3), ('that', '', 2), ('is', '', 2), ('not', '', 2), ('correctly', '', 2), ('indented', '', 2), ('shows', '', 2), ('either', '', 2), ('errors', '', 2), ('or', '', 2), ('does', '', 2), ('not', '', 2), ('what', '', 2), ('you', '', 2), ('want', '', 2), ('!', '', 2), ('.', '', 2)]\n"
          ],
          "name": "stdout"
        }
      ]
    },
    {
      "cell_type": "code",
      "metadata": {
        "id": "oZdac_E-S6qT",
        "colab_type": "code",
        "colab": {
          "base_uri": "https://localhost:8080/",
          "height": 34
        },
        "outputId": "bd54c466-1dd3-4299-bfbc-72ebd1a01fac"
      },
      "source": [
        "if output_dir is not None:\n",
        "    output_dir = Path(output_dir)\n",
        "    if not output_dir.exists():\n",
        "        output_dir.mkdir()\n",
        "    nlp.to_disk(output_dir)\n",
        "    print(\"Saved model to\", output_dir)"
      ],
      "execution_count": 30,
      "outputs": [
        {
          "output_type": "stream",
          "text": [
            "Saved model to C:\\techclassify\n"
          ],
          "name": "stdout"
        }
      ]
    },
    {
      "cell_type": "code",
      "metadata": {
        "id": "KQvFdH_gTL8Y",
        "colab_type": "code",
        "colab": {
          "base_uri": "https://localhost:8080/",
          "height": 34
        },
        "outputId": "43c05014-c7d2-4d25-cc35-c32b54a43d41"
      },
      "source": [
        "nlp2=spacy.load(output_dir)\n",
        "\n",
        "def find(s):\n",
        "    doc = nlp2(s.lower())\n",
        "    res=s.lower().find(\"program\")\n",
        "    if(res>0):\n",
        "        print('Entities', [(ent.text, ent.label_,ent.start_char,ent.end_char) for ent in doc.ents])\n",
        "    else:\n",
        "        print(\"Not tech\")\n",
        "s=\"Have you ever wondered how many times you’ve walked around the world? Or where your smallest bone is? And what is a Jesus Nut!? Well, get your answers here, and so much more with these 200 random, fun facts that will actually make your life better!\"\n",
        "find(s)"
      ],
      "execution_count": 41,
      "outputs": [
        {
          "output_type": "stream",
          "text": [
            "Not tech\n"
          ],
          "name": "stdout"
        }
      ]
    },
    {
      "cell_type": "code",
      "metadata": {
        "id": "x3AgTuM5VWaC",
        "colab_type": "code",
        "colab": {}
      },
      "source": [
        ""
      ],
      "execution_count": null,
      "outputs": []
    }
  ]
}